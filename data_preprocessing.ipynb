{
  "nbformat": 4,
  "nbformat_minor": 0,
  "metadata": {
    "colab": {
      "provenance": []
    },
    "kernelspec": {
      "name": "python3",
      "display_name": "Python 3"
    },
    "language_info": {
      "name": "python"
    }
  },
  "cells": [
    {
      "cell_type": "markdown",
      "source": [
        "**Project:** IMDB Top 250 Movies of All Time\n",
        "\n",
        "**Scrapped Website:** https://www.imdb.com/chart/top/?ref_=nv_mv_250"
      ],
      "metadata": {
        "id": "92-j1W6GCGIe"
      }
    },
    {
      "cell_type": "code",
      "execution_count": null,
      "metadata": {
        "colab": {
          "base_uri": "https://localhost:8080/"
        },
        "id": "NaT-2Oa8BpPu",
        "outputId": "a993debe-e28e-4d94-a260-779005cd2d51"
      },
      "outputs": [
        {
          "output_type": "stream",
          "name": "stdout",
          "text": [
            "Requirement already satisfied: pandas in /usr/local/lib/python3.11/dist-packages (2.2.2)\n",
            "Requirement already satisfied: numpy>=1.23.2 in /usr/local/lib/python3.11/dist-packages (from pandas) (1.26.4)\n",
            "Requirement already satisfied: python-dateutil>=2.8.2 in /usr/local/lib/python3.11/dist-packages (from pandas) (2.8.2)\n",
            "Requirement already satisfied: pytz>=2020.1 in /usr/local/lib/python3.11/dist-packages (from pandas) (2024.2)\n",
            "Requirement already satisfied: tzdata>=2022.7 in /usr/local/lib/python3.11/dist-packages (from pandas) (2025.1)\n",
            "Requirement already satisfied: six>=1.5 in /usr/local/lib/python3.11/dist-packages (from python-dateutil>=2.8.2->pandas) (1.17.0)\n"
          ]
        }
      ],
      "source": [
        "pip install pandas"
      ]
    },
    {
      "cell_type": "code",
      "source": [
        "pip install openpyxl"
      ],
      "metadata": {
        "colab": {
          "base_uri": "https://localhost:8080/"
        },
        "id": "2g2HWXcaB0zO",
        "outputId": "833ce3c3-7151-46a0-af18-64ec261902d2"
      },
      "execution_count": null,
      "outputs": [
        {
          "output_type": "stream",
          "name": "stdout",
          "text": [
            "Requirement already satisfied: openpyxl in /usr/local/lib/python3.11/dist-packages (3.1.5)\n",
            "Requirement already satisfied: et-xmlfile in /usr/local/lib/python3.11/dist-packages (from openpyxl) (2.0.0)\n"
          ]
        }
      ]
    },
    {
      "cell_type": "code",
      "source": [
        "from google.colab import drive\n",
        "drive.mount('/content/drive')"
      ],
      "metadata": {
        "colab": {
          "base_uri": "https://localhost:8080/"
        },
        "id": "K9mc0cFYB5HN",
        "outputId": "ff1c8c82-adff-47e7-b82c-6996fe5535cb"
      },
      "execution_count": null,
      "outputs": [
        {
          "output_type": "stream",
          "name": "stdout",
          "text": [
            "Drive already mounted at /content/drive; to attempt to forcibly remount, call drive.mount(\"/content/drive\", force_remount=True).\n"
          ]
        }
      ]
    },
    {
      "cell_type": "markdown",
      "source": [
        "**Importing .xlsx File from Google Drive**"
      ],
      "metadata": {
        "id": "CfnzSEIKCsiY"
      }
    },
    {
      "cell_type": "code",
      "source": [
        "import pandas as pd\n",
        "\n",
        "df = pd.read_excel('/content/drive/My Drive/IMDB_Top250.xlsx', sheet_name = 'Sheet1')\n",
        "print(df.head(10))"
      ],
      "metadata": {
        "id": "2AvCmrbTCz_P",
        "colab": {
          "base_uri": "https://localhost:8080/"
        },
        "outputId": "855cd860-0c9a-4655-86c0-10bc00dcb4b6"
      },
      "execution_count": null,
      "outputs": [
        {
          "output_type": "stream",
          "name": "stdout",
          "text": [
            "   Rank                                              Title  Release Runtime  \\\n",
            "0     1                           The Shawshank Redemption     1994  2h 22m   \n",
            "1     2                                      The Godfather     1972  2h 55m   \n",
            "2     3                                    The Dark Knight     2008  2h 32m   \n",
            "3     4                              The Godfather Part II     1974  3h 22m   \n",
            "4     5                                       12 Angry Men     1957  1h 36m   \n",
            "5     6      The Lord of the Rings: The Return of the King     2003  3h 21m   \n",
            "6     7                                   Schindler's List     1993  3h 15m   \n",
            "7     8                                       Pulp Fiction     1994  2h 34m   \n",
            "8     9  The Lord of the Rings: The Fellowship of the Ring     2001  2h 58m   \n",
            "9    10                     The Good, the Bad and the Ugly     1966  2h 58m   \n",
            "\n",
            "      Rated  Ratings  \n",
            "0         R      9.3  \n",
            "1         R      9.2  \n",
            "2     PG-13      9.0  \n",
            "3         R      9.0  \n",
            "4  Approved      9.0  \n",
            "5     PG-13      9.0  \n",
            "6         R      9.0  \n",
            "7         R      8.9  \n",
            "8     PG-13      8.9  \n",
            "9         R      8.8  \n"
          ]
        }
      ]
    },
    {
      "cell_type": "markdown",
      "source": [
        "**Checking for Any Missing Values**"
      ],
      "metadata": {
        "id": "cBkFii8_EvWR"
      }
    },
    {
      "cell_type": "code",
      "source": [
        " missing_values = df.isnull().sum()\n",
        " print(missing_values)"
      ],
      "metadata": {
        "colab": {
          "base_uri": "https://localhost:8080/"
        },
        "id": "MRxdutXvEsvd",
        "outputId": "4ba4a5f0-bb4c-4bd9-ce0a-bff92a688afe"
      },
      "execution_count": null,
      "outputs": [
        {
          "output_type": "stream",
          "name": "stdout",
          "text": [
            "Rank       0\n",
            "Title      0\n",
            "Release    0\n",
            "Runtime    0\n",
            "Rated      5\n",
            "Ratings    0\n",
            "dtype: int64\n"
          ]
        }
      ]
    },
    {
      "cell_type": "markdown",
      "source": [
        "**Handling Missing Values**"
      ],
      "metadata": {
        "id": "K6Ae7MIEE7UH"
      }
    },
    {
      "cell_type": "code",
      "source": [
        "df['Rated'].fillna('Not Rated', inplace=True)"
      ],
      "metadata": {
        "id": "wNmocrEZE6B5"
      },
      "execution_count": null,
      "outputs": []
    },
    {
      "cell_type": "code",
      "source": [
        "print(df)"
      ],
      "metadata": {
        "colab": {
          "base_uri": "https://localhost:8080/"
        },
        "id": "qDbFxs8NGRmp",
        "outputId": "751cdfc0-e7d5-423f-a31c-ac6e6ac3af7a"
      },
      "execution_count": null,
      "outputs": [
        {
          "output_type": "stream",
          "name": "stdout",
          "text": [
            "     Rank                      Title  Release Runtime      Rated  Ratings\n",
            "0       1   The Shawshank Redemption     1994  2h 22m          R      9.3\n",
            "1       2              The Godfather     1972  2h 55m          R      9.2\n",
            "2       3            The Dark Knight     2008  2h 32m      PG-13      9.0\n",
            "3       4      The Godfather Part II     1974  3h 22m          R      9.0\n",
            "4       5               12 Angry Men     1957  1h 36m   Approved      9.0\n",
            "..    ...                        ...      ...     ...        ...      ...\n",
            "245   246              Amores Perros     2000  2h 34m          R      8.0\n",
            "246   247                   The Help     2011  2h 26m      PG-13      8.1\n",
            "247   248                    Rebecca     1940  2h 10m   Approved      8.1\n",
            "248   249  A Silent Voice: The Movie     2016  2h 10m  Not Rated      8.1\n",
            "249   250                  Andhadhun     2018  2h 19m  Not Rated      8.2\n",
            "\n",
            "[250 rows x 6 columns]\n"
          ]
        }
      ]
    },
    {
      "cell_type": "code",
      "source": [
        "df.to_excel('updated_file.xlsx', index=False)"
      ],
      "metadata": {
        "id": "N4rMxc65GhO1"
      },
      "execution_count": null,
      "outputs": []
    }
  ]
}